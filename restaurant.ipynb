{
 "cells": [
  {
   "cell_type": "code",
   "execution_count": 1,
   "id": "9d7daa5e",
   "metadata": {},
   "outputs": [
    {
     "name": "stderr",
     "output_type": "stream",
     "text": [
      "[nltk_data] Downloading package stopwords to\n",
      "[nltk_data]     C:\\Users\\Mukut\\AppData\\Roaming\\nltk_data...\n",
      "[nltk_data]   Package stopwords is already up-to-date!\n",
      "[nltk_data] Downloading package wordnet to\n",
      "[nltk_data]     C:\\Users\\Mukut\\AppData\\Roaming\\nltk_data...\n",
      "[nltk_data]   Package wordnet is already up-to-date!\n"
     ]
    }
   ],
   "source": [
    "#Importing Essential Libraries\n",
    "import pandas as pd\n",
    "import numpy as np\n",
    "import matplotlib.pyplot as plt\n",
    "import seaborn as sns\n",
    "from sklearn.model_selection import train_test_split\n",
    "from sklearn.metrics import accuracy_score\n",
    "from sklearn.model_selection import GridSearchCV\n",
    "#Data Cleaning\n",
    "# Cleaning the Text\n",
    "import nltk\n",
    "import re\n",
    "nltk.download('stopwords')\n",
    "nltk.download('wordnet')\n",
    "from nltk.corpus import stopwords\n",
    "from nltk.stem.porter import PorterStemmer\n",
    "from nltk.stem import WordNetLemmatizer\n",
    "from sklearn.feature_extraction.text import TfidfVectorizer\n",
    "stemmer = PorterStemmer()\n",
    "lemmatizer = WordNetLemmatizer()\n",
    "\n",
    "\n",
    "#Importing algorithms\n",
    "from sklearn.neighbors import KNeighborsClassifier\n",
    "from sklearn.linear_model import LogisticRegression\n",
    "from sklearn.ensemble import RandomForestClassifier\n",
    "from sklearn.svm import SVC\n",
    "from sklearn.tree import DecisionTreeClassifier\n",
    "from xgboost import XGBClassifier\n",
    "import warnings\n",
    "warnings.filterwarnings('ignore')"
   ]
  },
  {
   "cell_type": "code",
   "execution_count": 2,
   "id": "0fabe0ac",
   "metadata": {},
   "outputs": [],
   "source": [
    "#Importing Dataset\n",
    "dataset=pd.read_csv('Restaurant_Reviews.tsv', sep='\\t')"
   ]
  },
  {
   "cell_type": "code",
   "execution_count": 3,
   "id": "55b5deee",
   "metadata": {},
   "outputs": [
    {
     "data": {
      "text/html": [
       "<div>\n",
       "<style scoped>\n",
       "    .dataframe tbody tr th:only-of-type {\n",
       "        vertical-align: middle;\n",
       "    }\n",
       "\n",
       "    .dataframe tbody tr th {\n",
       "        vertical-align: top;\n",
       "    }\n",
       "\n",
       "    .dataframe thead th {\n",
       "        text-align: right;\n",
       "    }\n",
       "</style>\n",
       "<table border=\"1\" class=\"dataframe\">\n",
       "  <thead>\n",
       "    <tr style=\"text-align: right;\">\n",
       "      <th></th>\n",
       "      <th>Review</th>\n",
       "      <th>Liked</th>\n",
       "    </tr>\n",
       "  </thead>\n",
       "  <tbody>\n",
       "    <tr>\n",
       "      <th>0</th>\n",
       "      <td>Wow... Loved this place.</td>\n",
       "      <td>1</td>\n",
       "    </tr>\n",
       "    <tr>\n",
       "      <th>1</th>\n",
       "      <td>Crust is not good.</td>\n",
       "      <td>0</td>\n",
       "    </tr>\n",
       "    <tr>\n",
       "      <th>2</th>\n",
       "      <td>Not tasty and the texture was just nasty.</td>\n",
       "      <td>0</td>\n",
       "    </tr>\n",
       "    <tr>\n",
       "      <th>3</th>\n",
       "      <td>Stopped by during the late May bank holiday of...</td>\n",
       "      <td>1</td>\n",
       "    </tr>\n",
       "    <tr>\n",
       "      <th>4</th>\n",
       "      <td>The selection on the menu was great and so wer...</td>\n",
       "      <td>1</td>\n",
       "    </tr>\n",
       "  </tbody>\n",
       "</table>\n",
       "</div>"
      ],
      "text/plain": [
       "                                              Review  Liked\n",
       "0                           Wow... Loved this place.      1\n",
       "1                                 Crust is not good.      0\n",
       "2          Not tasty and the texture was just nasty.      0\n",
       "3  Stopped by during the late May bank holiday of...      1\n",
       "4  The selection on the menu was great and so wer...      1"
      ]
     },
     "execution_count": 3,
     "metadata": {},
     "output_type": "execute_result"
    }
   ],
   "source": [
    "#Top 5 records of a dataset\n",
    "dataset.head()\n"
   ]
  },
  {
   "cell_type": "markdown",
   "id": "3d7822d8",
   "metadata": {},
   "source": [
    "2 Columns in a dataset \n",
    "\n",
    "Review is a independent feature\n",
    "\n",
    "Liked is a label"
   ]
  },
  {
   "cell_type": "code",
   "execution_count": 4,
   "id": "2d8c14a5",
   "metadata": {},
   "outputs": [
    {
     "data": {
      "text/plain": [
       "(1000, 2)"
      ]
     },
     "execution_count": 4,
     "metadata": {},
     "output_type": "execute_result"
    }
   ],
   "source": [
    "#Shape of a dataset\n",
    "dataset.shape"
   ]
  },
  {
   "cell_type": "markdown",
   "id": "1ec36b59",
   "metadata": {},
   "source": [
    "Number of positive and negative review"
   ]
  },
  {
   "cell_type": "code",
   "execution_count": 5,
   "id": "45d60bd8",
   "metadata": {},
   "outputs": [
    {
     "data": {
      "text/plain": [
       "<AxesSubplot:xlabel='Liked', ylabel='count'>"
      ]
     },
     "execution_count": 5,
     "metadata": {},
     "output_type": "execute_result"
    },
    {
     "data": {
      "image/png": "[encoded data removed]",
      "text/plain": [
       "<Figure size 432x288 with 1 Axes>"
      ]
     },
     "metadata": {},
     "output_type": "display_data"
    }
   ],
   "source": [
    "sns.set_style('whitegrid')\n",
    "sns.countplot('Liked',data=dataset)"
   ]
  },
  {
   "cell_type": "code",
   "execution_count": 6,
   "id": "3c1a9c42",
   "metadata": {},
   "outputs": [
    {
     "data": {
      "text/plain": [
       "0    500\n",
       "1    500\n",
       "Name: Liked, dtype: int64"
      ]
     },
     "execution_count": 6,
     "metadata": {},
     "output_type": "execute_result"
    }
   ],
   "source": [
    "dataset['Liked'].value_counts()"
   ]
  },
  {
   "cell_type": "markdown",
   "id": "d3d7ed5f",
   "metadata": {},
   "source": [
    "So, the dataset is a balanced dataset with number of '1's and '0's being equal."
   ]
  },
  {
   "cell_type": "markdown",
   "id": "0bceeee4",
   "metadata": {},
   "source": [
    "Data Cleaning"
   ]
  },
  {
   "cell_type": "code",
   "execution_count": 7,
   "id": "135a9a83",
   "metadata": {},
   "outputs": [
    {
     "data": {
      "text/plain": [
       "0                             Wow... Loved this place.\n",
       "1                                   Crust is not good.\n",
       "2            Not tasty and the texture was just nasty.\n",
       "3    Stopped by during the late May bank holiday of...\n",
       "4    The selection on the menu was great and so wer...\n",
       "5       Now I am getting angry and I want my damn pho.\n",
       "6                Honeslty it didn't taste THAT fresh.)\n",
       "7    The potatoes were like rubber and you could te...\n",
       "8                            The fries were great too.\n",
       "9                                       A great touch.\n",
       "Name: Review, dtype: object"
      ]
     },
     "execution_count": 7,
     "metadata": {},
     "output_type": "execute_result"
    }
   ],
   "source": [
    "#Top 10 Sentiment text\n",
    "dataset['Review'].head(10)"
   ]
  },
  {
   "cell_type": "markdown",
   "id": "251ee694",
   "metadata": {},
   "source": [
    "In the below cell performing following :\n",
    "\n",
    "    1) Will only keep alphabets , No special symbols and no Numbers\n",
    "    \n",
    "    2) Converting review to lower alphabets\n",
    "    \n",
    "    3) Splitting it into list\n",
    "    \n",
    "    4) Applying stopwords to keep important words from a review and keeping not in a review if it's present                 as it is closest word to help determine whether the review is good or not \n",
    "    \n",
    "    5) using join to form again a sentence\n",
    "    "
   ]
  },
  {
   "cell_type": "code",
   "execution_count": 8,
   "id": "af9f6849",
   "metadata": {},
   "outputs": [],
   "source": [
    "corpus = []\n",
    "for i in range(len(dataset)):\n",
    "    review = re.sub('[^a-zA-Z]', ' ', dataset['Review'][i])\n",
    "    review = review.lower()\n",
    "    review = review.split()\n",
    "    all_stopwords = stopwords.words('english')\n",
    "    all_stopwords.remove('not') \n",
    "    #remove negative word 'not' as it is closest word to help determine whether the review is good or not \n",
    "    review = [lemmatizer.lemmatize(word) for word in review if not word in set(all_stopwords)]\n",
    "    review = ' '.join(review)\n",
    "    corpus.append(review)\n"
   ]
  },
  {
   "cell_type": "code",
   "execution_count": 9,
   "id": "b00e61fa",
   "metadata": {},
   "outputs": [
    {
     "data": {
      "text/html": [
       "<div>\n",
       "<style scoped>\n",
       "    .dataframe tbody tr th:only-of-type {\n",
       "        vertical-align: middle;\n",
       "    }\n",
       "\n",
       "    .dataframe tbody tr th {\n",
       "        vertical-align: top;\n",
       "    }\n",
       "\n",
       "    .dataframe thead th {\n",
       "        text-align: right;\n",
       "    }\n",
       "</style>\n",
       "<table border=\"1\" class=\"dataframe\">\n",
       "  <thead>\n",
       "    <tr style=\"text-align: right;\">\n",
       "      <th></th>\n",
       "      <th>Review_before_Cleaning</th>\n",
       "      <th>Review_After_Cleaning</th>\n",
       "    </tr>\n",
       "  </thead>\n",
       "  <tbody>\n",
       "    <tr>\n",
       "      <th>0</th>\n",
       "      <td>Wow... Loved this place.</td>\n",
       "      <td>wow loved place</td>\n",
       "    </tr>\n",
       "    <tr>\n",
       "      <th>1</th>\n",
       "      <td>Crust is not good.</td>\n",
       "      <td>crust not good</td>\n",
       "    </tr>\n",
       "    <tr>\n",
       "      <th>2</th>\n",
       "      <td>Not tasty and the texture was just nasty.</td>\n",
       "      <td>not tasty texture nasty</td>\n",
       "    </tr>\n",
       "    <tr>\n",
       "      <th>3</th>\n",
       "      <td>Stopped by during the late May bank holiday of...</td>\n",
       "      <td>stopped late may bank holiday rick steve recom...</td>\n",
       "    </tr>\n",
       "    <tr>\n",
       "      <th>4</th>\n",
       "      <td>The selection on the menu was great and so wer...</td>\n",
       "      <td>selection menu great price</td>\n",
       "    </tr>\n",
       "  </tbody>\n",
       "</table>\n",
       "</div>"
      ],
      "text/plain": [
       "                              Review_before_Cleaning  \\\n",
       "0                           Wow... Loved this place.   \n",
       "1                                 Crust is not good.   \n",
       "2          Not tasty and the texture was just nasty.   \n",
       "3  Stopped by during the late May bank holiday of...   \n",
       "4  The selection on the menu was great and so wer...   \n",
       "\n",
       "                               Review_After_Cleaning  \n",
       "0                                    wow loved place  \n",
       "1                                     crust not good  \n",
       "2                            not tasty texture nasty  \n",
       "3  stopped late may bank holiday rick steve recom...  \n",
       "4                         selection menu great price  "
      ]
     },
     "execution_count": 9,
     "metadata": {},
     "output_type": "execute_result"
    }
   ],
   "source": [
    "#First 5 review after cleaning\n",
    "pd.DataFrame(list(zip(dataset['Review'],corpus[:5])),columns=['Review_before_Cleaning','Review_After_Cleaning'])"
   ]
  },
  {
   "cell_type": "markdown",
   "id": "252ad658",
   "metadata": {},
   "source": [
    "Now Review feature is clean and Dropping a review "
   ]
  },
  {
   "cell_type": "code",
   "execution_count": 10,
   "id": "395c39a8",
   "metadata": {},
   "outputs": [],
   "source": [
    "#Droping a Review\n",
    "dataset.drop(['Review'],axis=1,inplace=True)"
   ]
  },
  {
   "cell_type": "code",
   "execution_count": 11,
   "id": "130cc484",
   "metadata": {},
   "outputs": [],
   "source": [
    "#New Feature Review which containg clean review\n",
    "dataset['Review']=corpus"
   ]
  },
  {
   "cell_type": "code",
   "execution_count": 12,
   "id": "5a9de352",
   "metadata": {},
   "outputs": [
    {
     "data": {
      "text/html": [
       "<div>\n",
       "<style scoped>\n",
       "    .dataframe tbody tr th:only-of-type {\n",
       "        vertical-align: middle;\n",
       "    }\n",
       "\n",
       "    .dataframe tbody tr th {\n",
       "        vertical-align: top;\n",
       "    }\n",
       "\n",
       "    .dataframe thead th {\n",
       "        text-align: right;\n",
       "    }\n",
       "</style>\n",
       "<table border=\"1\" class=\"dataframe\">\n",
       "  <thead>\n",
       "    <tr style=\"text-align: right;\">\n",
       "      <th></th>\n",
       "      <th>Liked</th>\n",
       "      <th>Review</th>\n",
       "    </tr>\n",
       "  </thead>\n",
       "  <tbody>\n",
       "    <tr>\n",
       "      <th>0</th>\n",
       "      <td>1</td>\n",
       "      <td>wow loved place</td>\n",
       "    </tr>\n",
       "    <tr>\n",
       "      <th>1</th>\n",
       "      <td>0</td>\n",
       "      <td>crust not good</td>\n",
       "    </tr>\n",
       "    <tr>\n",
       "      <th>2</th>\n",
       "      <td>0</td>\n",
       "      <td>not tasty texture nasty</td>\n",
       "    </tr>\n",
       "    <tr>\n",
       "      <th>3</th>\n",
       "      <td>1</td>\n",
       "      <td>stopped late may bank holiday rick steve recom...</td>\n",
       "    </tr>\n",
       "    <tr>\n",
       "      <th>4</th>\n",
       "      <td>1</td>\n",
       "      <td>selection menu great price</td>\n",
       "    </tr>\n",
       "  </tbody>\n",
       "</table>\n",
       "</div>"
      ],
      "text/plain": [
       "   Liked                                             Review\n",
       "0      1                                    wow loved place\n",
       "1      0                                     crust not good\n",
       "2      0                            not tasty texture nasty\n",
       "3      1  stopped late may bank holiday rick steve recom...\n",
       "4      1                         selection menu great price"
      ]
     },
     "execution_count": 12,
     "metadata": {},
     "output_type": "execute_result"
    }
   ],
   "source": [
    "#Top 5 record now\n",
    "dataset.head()"
   ]
  },
  {
   "cell_type": "markdown",
   "id": "7b7ab7a0",
   "metadata": {},
   "source": [
    "Splitting a dataset into training and testing sets"
   ]
  },
  {
   "cell_type": "code",
   "execution_count": 13,
   "id": "7a15e9be",
   "metadata": {},
   "outputs": [],
   "source": [
    "x_train , x_test , y_train , y_test = train_test_split(dataset['Review'],dataset['Liked'],test_size=0.20,random_state=42,shuffle=True)"
   ]
  },
  {
   "cell_type": "code",
   "execution_count": null,
   "id": "f16381aa",
   "metadata": {},
   "outputs": [],
   "source": []
  },
  {
   "cell_type": "code",
   "execution_count": 14,
   "id": "a85aaf97",
   "metadata": {},
   "outputs": [],
   "source": [
    "#Initialize TfidVectorizer\n",
    "count_vec=TfidfVectorizer()\n",
    "    \n",
    "#Fill count_vec on dataset\n",
    "count_vec.fit(x_train)\n",
    "    \n",
    "#Transform \n",
    "transform_tarin=count_vec.transform(x_train)\n",
    "transform_test=count_vec.transform(x_test)"
   ]
  },
  {
   "cell_type": "markdown",
   "id": "9cac5ca7",
   "metadata": {},
   "source": [
    "1) Using Logistic Regression"
   ]
  },
  {
   "cell_type": "code",
   "execution_count": 15,
   "id": "239d5ae7",
   "metadata": {},
   "outputs": [
    {
     "name": "stdout",
     "output_type": "stream",
     "text": [
      "Training score :   0.96125\n",
      "Testing Score :   0.78\n"
     ]
    }
   ],
   "source": [
    "#Initialising model\n",
    "lr=LogisticRegression()\n",
    "\n",
    "#Fitting a training dataset\n",
    "lr.fit(transform_tarin,y_train)\n",
    "\n",
    "#Predicting a review of testing\n",
    "pred1=lr.predict(transform_test)\n",
    "\n",
    "#Accuracy score of prediction\n",
    "print(\"Training score :  \",lr.score(transform_tarin,y_train))\n",
    "print(\"Testing Score :  \",accuracy_score(pred1,y_test))"
   ]
  },
  {
   "cell_type": "markdown",
   "id": "6d316c20",
   "metadata": {},
   "source": [
    "2) Using KNN"
   ]
  },
  {
   "cell_type": "code",
   "execution_count": 16,
   "id": "e40fa653",
   "metadata": {},
   "outputs": [
    {
     "name": "stdout",
     "output_type": "stream",
     "text": [
      "Training score :   0.86\n",
      "Testing Score :   0.75\n"
     ]
    }
   ],
   "source": [
    "#Initialising model\n",
    "knn=KNeighborsClassifier()\n",
    "\n",
    "#Fitting a training dataset\n",
    "knn.fit(transform_tarin,y_train)\n",
    "\n",
    "#Predicting a review of testing\n",
    "pred2=knn.predict(transform_test)\n",
    "\n",
    "#Accuracy score of prediction\n",
    "print(\"Training score :  \",knn.score(transform_tarin,y_train))\n",
    "print(\"Testing Score :  \",accuracy_score(pred2,y_test))"
   ]
  },
  {
   "cell_type": "markdown",
   "id": "85e882b4",
   "metadata": {},
   "source": [
    "3) Using random Forest classier"
   ]
  },
  {
   "cell_type": "code",
   "execution_count": 17,
   "id": "55594811",
   "metadata": {},
   "outputs": [
    {
     "name": "stdout",
     "output_type": "stream",
     "text": [
      "Training score :   1.0\n",
      "Testing Score :   0.745\n"
     ]
    }
   ],
   "source": [
    "#Initialising model\n",
    "rf=RandomForestClassifier()\n",
    "\n",
    "#Fitting a training dataset\n",
    "rf.fit(transform_tarin,y_train)\n",
    "\n",
    "#Predicting a review of testing\n",
    "pred3=rf.predict(transform_test)\n",
    "\n",
    "#Accuracy score of prediction\n",
    "print(\"Training score :  \",rf.score(transform_tarin,y_train))\n",
    "print(\"Testing Score :  \",accuracy_score(pred3,y_test))"
   ]
  },
  {
   "cell_type": "markdown",
   "id": "24f453de",
   "metadata": {},
   "source": [
    "4) Using SVC"
   ]
  },
  {
   "cell_type": "code",
   "execution_count": 18,
   "id": "f16f0c48",
   "metadata": {},
   "outputs": [
    {
     "name": "stdout",
     "output_type": "stream",
     "text": [
      "Training score :   0.9975\n",
      "Testing Score :   0.805\n"
     ]
    }
   ],
   "source": [
    "#Initialising model\n",
    "svc=SVC()\n",
    "\n",
    "#Fitting a training dataset\n",
    "svc.fit(transform_tarin,y_train)\n",
    "\n",
    "#Predicting a review of testing\n",
    "pred4=svc.predict(transform_test)\n",
    "\n",
    "#Accuracy score of prediction\n",
    "print(\"Training score :  \",svc.score(transform_tarin,y_train))\n",
    "print(\"Testing Score :  \",accuracy_score(pred4,y_test))"
   ]
  },
  {
   "cell_type": "markdown",
   "id": "d8eac384",
   "metadata": {},
   "source": [
    "5) Using XGboost"
   ]
  },
  {
   "cell_type": "code",
   "execution_count": 19,
   "id": "1c7266eb",
   "metadata": {},
   "outputs": [
    {
     "name": "stdout",
     "output_type": "stream",
     "text": [
      "[13:13:58] WARNING: C:/Users/Administrator/workspace/xgboost-win64_release_1.4.0/src/learner.cc:1095: Starting in XGBoost 1.3.0, the default evaluation metric used with the objective 'binary:logistic' was changed from 'error' to 'logloss'. Explicitly set eval_metric if you'd like to restore the old behavior.\n",
      "Training score :   0.92375\n",
      "Testing Score :   0.715\n"
     ]
    }
   ],
   "source": [
    "#Initialising model\n",
    "xg=XGBClassifier()\n",
    "\n",
    "#Fitting a training dataset\n",
    "xg.fit(transform_tarin,y_train)\n",
    "\n",
    "#Predicting a review of testing\n",
    "pred5=xg.predict(transform_test)\n",
    "\n",
    "#Accuracy score of prediction\n",
    "print(\"Training score :  \",xg.score(transform_tarin,y_train))\n",
    "print(\"Testing Score :  \",accuracy_score(pred5,y_test))"
   ]
  },
  {
   "cell_type": "markdown",
   "id": "23318f7a",
   "metadata": {},
   "source": [
    "Logistic Regression Giving a better accuracy\n"
   ]
  },
  {
   "cell_type": "code",
   "execution_count": 20,
   "id": "578be150",
   "metadata": {},
   "outputs": [],
   "source": [
    "#Initialize TfidVectorizer\n",
    "count_vec=TfidfVectorizer()\n",
    "    \n",
    "#Fill count_vec on dataset\n",
    "count_vec.fit(dataset['Review'])\n",
    "    \n",
    "#Transform \n",
    "X=count_vec.transform(dataset['Review'])\n"
   ]
  },
  {
   "cell_type": "code",
   "execution_count": 21,
   "id": "d839371b",
   "metadata": {},
   "outputs": [
    {
     "name": "stdout",
     "output_type": "stream",
     "text": [
      "Training score :   0.957\n"
     ]
    }
   ],
   "source": [
    "#Initialising model\n",
    "lr=LogisticRegression()\n",
    "\n",
    "#Fitting a training dataset\n",
    "lr.fit(X,dataset['Liked'])\n",
    "\n",
    "\n",
    "#Accuracy score of training set\n",
    "print(\"Training score :  \",lr.score(X,dataset[\"Liked\"]))\n"
   ]
  },
  {
   "cell_type": "code",
   "execution_count": 37,
   "id": "bc4a1de5",
   "metadata": {},
   "outputs": [],
   "source": [
    "#Predicting a revied\n",
    "p=lr.predict(count_vec.transform([\"Tasty food\"]))"
   ]
  },
  {
   "cell_type": "code",
   "execution_count": 38,
   "id": "a5edc167",
   "metadata": {},
   "outputs": [
    {
     "name": "stdout",
     "output_type": "stream",
     "text": [
      "Predicted target name: 1    0\n",
      "Name: Liked, dtype: int64\n"
     ]
    }
   ],
   "source": [
    "print(\"Predicted target name: {}\".format(\n",
    "dataset['Liked'][p]))\n"
   ]
  },
  {
   "cell_type": "code",
   "execution_count": 33,
   "id": "a987747a",
   "metadata": {},
   "outputs": [
    {
     "data": {
      "text/html": [
       "<div>\n",
       "<style scoped>\n",
       "    .dataframe tbody tr th:only-of-type {\n",
       "        vertical-align: middle;\n",
       "    }\n",
       "\n",
       "    .dataframe tbody tr th {\n",
       "        vertical-align: top;\n",
       "    }\n",
       "\n",
       "    .dataframe thead th {\n",
       "        text-align: right;\n",
       "    }\n",
       "</style>\n",
       "<table border=\"1\" class=\"dataframe\">\n",
       "  <thead>\n",
       "    <tr style=\"text-align: right;\">\n",
       "      <th></th>\n",
       "      <th>Liked</th>\n",
       "      <th>Review</th>\n",
       "    </tr>\n",
       "  </thead>\n",
       "  <tbody>\n",
       "    <tr>\n",
       "      <th>0</th>\n",
       "      <td>1</td>\n",
       "      <td>wow loved place</td>\n",
       "    </tr>\n",
       "    <tr>\n",
       "      <th>1</th>\n",
       "      <td>0</td>\n",
       "      <td>crust not good</td>\n",
       "    </tr>\n",
       "    <tr>\n",
       "      <th>2</th>\n",
       "      <td>0</td>\n",
       "      <td>not tasty texture nasty</td>\n",
       "    </tr>\n",
       "    <tr>\n",
       "      <th>3</th>\n",
       "      <td>1</td>\n",
       "      <td>stopped late may bank holiday rick steve recom...</td>\n",
       "    </tr>\n",
       "    <tr>\n",
       "      <th>4</th>\n",
       "      <td>1</td>\n",
       "      <td>selection menu great price</td>\n",
       "    </tr>\n",
       "  </tbody>\n",
       "</table>\n",
       "</div>"
      ],
      "text/plain": [
       "   Liked                                             Review\n",
       "0      1                                    wow loved place\n",
       "1      0                                     crust not good\n",
       "2      0                            not tasty texture nasty\n",
       "3      1  stopped late may bank holiday rick steve recom...\n",
       "4      1                         selection menu great price"
      ]
     },
     "execution_count": 33,
     "metadata": {},
     "output_type": "execute_result"
    }
   ],
   "source": [
    "dataset.head()"
   ]
  }
 ],
 "metadata": {
  "kernelspec": {
   "display_name": "Python 3",
   "language": "python",
   "name": "python3"
  },
  "language_info": {
   "codemirror_mode": {
    "name": "ipython",
    "version": 3
   },
   "file_extension": ".py",
   "mimetype": "text/x-python",
   "name": "python",
   "nbconvert_exporter": "python",
   "pygments_lexer": "ipython3",
   "version": "3.8.8"
  }
 },
 "nbformat": 4,
 "nbformat_minor": 5
}
